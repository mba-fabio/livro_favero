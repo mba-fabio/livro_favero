{
 "cells": [
  {
   "cell_type": "code",
   "execution_count": null,
   "id": "b212d2eb",
   "metadata": {
    "lines_to_next_cell": 2
   },
   "outputs": [],
   "source": [
    "##############################################################################\n",
    "#                     MANUAL DE ANÁLISE DE DADOS                             #\n",
    "#                Luiz Paulo Fávero e Patrícia Belfiore                       #\n",
    "#                            Capítulo 11                                     #\n",
    "##############################################################################\n",
    "\n",
    "# Nossos mais sinceros agradecimentos aos Professores Helder Prado Santos e\n",
    "#Wilson Tarantin Junior pela contribuição com códigos e revisão do material.\n",
    "\n",
    "##############################################################################\n",
    "#                     IMPORTAÇÃO DOS PACOTES NECESSÁRIOS                     #\n",
    "##############################################################################\n",
    "\n",
    "import pandas as pd #manipulação de dados em formato de dataframe\n",
    "import numpy as np #biblioteca para operações matemáticas multidimensionais\n",
    "import matplotlib.pyplot as plt #biblioteca de visualização de dados\n",
    "import seaborn as sns #biblioteca de visualização de informações estatísticas\n",
    "from scipy.stats import chi2_contingency #estatística qui-quadrado e teste\n",
    "import statsmodels.api as sm #cálculo de estatísticas da tabela de contingência\n",
    "from scipy.stats.contingency import margins #cálculo manual dos resíduos padronizados\n",
    "from scipy.linalg import svd #valores singulares e autovetores (eigenvectors)\n",
    "import prince #funções 'CA' e 'MCA' para elaboração direta da Anacor e da MCA\n",
    "import plotly.graph_objects as go #biblioteca para gráficos interativos\n",
    "import plotly.io as pio #biblioteca para gráficos interativos\n",
    "pio.renderers.default = 'browser' #biblioteca para gráficos interativos"
   ]
  },
  {
   "cell_type": "code",
   "execution_count": null,
   "id": "efe4a59e",
   "metadata": {
    "lines_to_next_cell": 2
   },
   "outputs": [],
   "source": [
    "##############################################################################\n",
    "#       DESCRIÇÃO E EXPLORAÇÃO DO DATASET 'perfil_investidor_aplicacao'      #\n",
    "##############################################################################"
   ]
  },
  {
   "cell_type": "code",
   "execution_count": null,
   "id": "9cc6f48e",
   "metadata": {
    "lines_to_next_cell": 2
   },
   "outputs": [],
   "source": [
    "# Carregamento da base de dados 'perfil_investidor_aplicacao'\n",
    "df_perfil = pd.read_csv('perfil_investidor_aplicacao.csv', delimiter=',')\n",
    "\n",
    "# Visualização da base de dados 'perfil_investidor_aplicacao'\n",
    "df_perfil"
   ]
  },
  {
   "cell_type": "code",
   "execution_count": null,
   "id": "ecc01563",
   "metadata": {
    "lines_to_next_cell": 2
   },
   "outputs": [],
   "source": [
    "# Características das variáveis do dataset\n",
    "df_perfil.info()"
   ]
  },
  {
   "cell_type": "code",
   "execution_count": null,
   "id": "f8ffbe98",
   "metadata": {
    "lines_to_next_cell": 2
   },
   "outputs": [],
   "source": [
    "# Tabelas de frequência das variáveis qualitativas 'perfil' e 'aplicacao'\n",
    "\n",
    "# Variável 'perfil'\n",
    "df_perfil['perfil'].value_counts()"
   ]
  },
  {
   "cell_type": "code",
   "execution_count": null,
   "id": "7db4474b",
   "metadata": {
    "lines_to_next_cell": 2
   },
   "outputs": [],
   "source": [
    "# Variável 'aplicacao'\n",
    "df_perfil['aplicacao'].value_counts()"
   ]
  },
  {
   "cell_type": "code",
   "execution_count": null,
   "id": "09e30651",
   "metadata": {
    "lines_to_next_cell": 2
   },
   "outputs": [],
   "source": [
    "################################################################################\n",
    "#                     ANÁLISE DE CORRESPONDÊNCIA SIMPLES                       #\n",
    "################################################################################"
   ]
  },
  {
   "cell_type": "code",
   "execution_count": null,
   "id": "6f3a3e81",
   "metadata": {
    "lines_to_next_cell": 2
   },
   "outputs": [],
   "source": [
    "# Tabela de contingência com frequências absolutas observadas\n",
    "tabela_contingencia = pd.crosstab(index = df_perfil['perfil'],\n",
    "                                  columns = df_perfil['aplicacao'],\n",
    "                                  margins = False)\n",
    "tabela_contingencia.columns = ['Acoes','CDB','Poupanca'] #nomes das colunas\n",
    "tabela_contingencia.index = ['Agressivo', 'Conservador', 'Moderado'] #nomes das linhas\n",
    "tabela_contingencia #tabela de contingência com frequências absolutas esperadas\n",
    "tabela_contingencia"
   ]
  },
  {
   "cell_type": "code",
   "execution_count": null,
   "id": "1a5a3ac3",
   "metadata": {
    "lines_to_next_cell": 2
   },
   "outputs": [],
   "source": [
    "# Estatísticas obtidas a partir da tabela de contingência por meio da\n",
    "#função 'chi2_contingency' do pacote 'scipy.stats'\n",
    "\n",
    "# Estatística qui-quadrado e teste\n",
    "chi2, pvalue, df, freq_expected = chi2_contingency(tabela_contingencia)\n",
    "\n",
    "f\"estatística qui²: {chi2}\" # estatística qui-quadrado"
   ]
  },
  {
   "cell_type": "code",
   "execution_count": null,
   "id": "15144081",
   "metadata": {
    "lines_to_next_cell": 2
   },
   "outputs": [],
   "source": [
    "f\"p-value da estatística: {pvalue}\" # p-value da estatística qui-quadrado"
   ]
  },
  {
   "cell_type": "code",
   "execution_count": null,
   "id": "e98f8131",
   "metadata": {
    "lines_to_next_cell": 2
   },
   "outputs": [],
   "source": [
    "f\"graus de liberdade: {df}\" # graus de liberdade"
   ]
  },
  {
   "cell_type": "code",
   "execution_count": null,
   "id": "8ea8675d",
   "metadata": {
    "lines_to_next_cell": 2
   },
   "outputs": [],
   "source": [
    "# Tabela de contingência com frequências absolutas esperadas\n",
    "freq_expected\n",
    "freq_expected = pd.DataFrame(data=freq_expected)\n",
    "freq_expected.columns = ['Acoes','CDB','Poupanca'] #nomes das colunas\n",
    "freq_expected.index = ['Agressivo', 'Conservador', 'Moderado'] #nomes das linhas\n",
    "freq_expected #tabela de contingência com frequências absolutas esperadas"
   ]
  },
  {
   "cell_type": "code",
   "execution_count": null,
   "id": "5d496a9c",
   "metadata": {
    "lines_to_next_cell": 2
   },
   "outputs": [],
   "source": [
    "# Resíduos – diferenças entre frequências absolutas observadas e esperadas\n",
    "tabela_contingencia - freq_expected"
   ]
  },
  {
   "cell_type": "code",
   "execution_count": null,
   "id": "7ebfbe5f",
   "metadata": {
    "lines_to_next_cell": 2
   },
   "outputs": [],
   "source": [
    "# Valores de qui-quadrado por célula\n",
    "((tabela_contingencia - freq_expected)**2)/freq_expected"
   ]
  },
  {
   "cell_type": "code",
   "execution_count": null,
   "id": "dfec3647",
   "metadata": {
    "lines_to_next_cell": 2
   },
   "outputs": [],
   "source": [
    "# Resíduos padronizados\n",
    "(tabela_contingencia - freq_expected) / np.sqrt(freq_expected)"
   ]
  },
  {
   "cell_type": "code",
   "execution_count": null,
   "id": "40fad6b9",
   "metadata": {
    "lines_to_next_cell": 2
   },
   "outputs": [],
   "source": [
    "# Resíduos padronizados ajustados\n",
    "tabela_array = np.array(tabela_contingencia)\n",
    "n = tabela_array.sum()\n",
    "rsum, csum = margins(tabela_array)\n",
    "rsum = rsum.astype(np.float64)\n",
    "csum = csum.astype(np.float64)\n",
    "v = csum * rsum * (n - rsum) * (n - csum) / n**3\n",
    "(tabela_array - freq_expected) / np.sqrt(v)"
   ]
  },
  {
   "cell_type": "code",
   "execution_count": null,
   "id": "9d0817d6",
   "metadata": {
    "lines_to_next_cell": 2
   },
   "outputs": [],
   "source": [
    "# Estatísticas obtidas diretamente a partir da tabela de contingência por meio\n",
    "#da função 'Table' do pacote 'statsmodels'\n",
    "tabela = sm.stats.Table(tabela_contingencia)"
   ]
  },
  {
   "cell_type": "code",
   "execution_count": null,
   "id": "446eb1d7",
   "metadata": {
    "lines_to_next_cell": 2
   },
   "outputs": [],
   "source": [
    "# Estatística qui-quadrado e teste\n",
    "print(tabela.test_nominal_association())"
   ]
  },
  {
   "cell_type": "code",
   "execution_count": null,
   "id": "35f6f410",
   "metadata": {
    "lines_to_next_cell": 2
   },
   "outputs": [],
   "source": [
    "# Tabela de contingência com frequências absolutas esperadas\n",
    "tabela.fittedvalues"
   ]
  },
  {
   "cell_type": "code",
   "execution_count": null,
   "id": "29aab50d",
   "metadata": {
    "lines_to_next_cell": 2
   },
   "outputs": [],
   "source": [
    "# Resíduos – diferenças entre frequências absolutas observadas e esperadas\n",
    "tabela.table_orig - tabela.fittedvalues"
   ]
  },
  {
   "cell_type": "code",
   "execution_count": null,
   "id": "f96cb45d",
   "metadata": {
    "lines_to_next_cell": 2
   },
   "outputs": [],
   "source": [
    "# Valores de qui-quadrado por célula\n",
    "tabela.chi2_contribs"
   ]
  },
  {
   "cell_type": "code",
   "execution_count": null,
   "id": "bbb8340d",
   "metadata": {
    "lines_to_next_cell": 2
   },
   "outputs": [],
   "source": [
    "# Resíduos padronizados\n",
    "tabela.resid_pearson"
   ]
  },
  {
   "cell_type": "code",
   "execution_count": null,
   "id": "c498c5a0",
   "metadata": {
    "lines_to_next_cell": 2
   },
   "outputs": [],
   "source": [
    "# Resíduos padronizados ajustados\n",
    "tabela.standardized_resids"
   ]
  },
  {
   "cell_type": "code",
   "execution_count": null,
   "id": "40700a46",
   "metadata": {
    "lines_to_next_cell": 2
   },
   "outputs": [],
   "source": [
    "# Mapa de calor dos resíduos padronizados ajustados\n",
    "plt.figure(figsize=(15,10))\n",
    "sns.heatmap(tabela.standardized_resids, annot=True,\n",
    "            cmap = plt.cm.viridis,\n",
    "            annot_kws={'size':22})\n",
    "plt.show()"
   ]
  },
  {
   "cell_type": "code",
   "execution_count": null,
   "id": "6066f036",
   "metadata": {},
   "outputs": [],
   "source": [
    "# Massas das colunas (column profiles)\n",
    "rsum, csum = margins(tabela_contingencia)\n",
    "massa_colunas = rsum/rsum.sum()\n",
    "massa_colunas = pd.DataFrame(data=massa_colunas)\n",
    "massa_colunas.columns = ['Massas'] #nome da coluna\n",
    "massa_colunas.index = ['Agressivo', 'Conservador', 'Moderado'] #nomes das linhas\n",
    "massa_colunas #massas das colunas"
   ]
  },
  {
   "cell_type": "code",
   "execution_count": null,
   "id": "1dadac9c",
   "metadata": {},
   "outputs": [],
   "source": [
    "# Massas das linhas (row profiles)\n",
    "massa_linhas = csum/csum.sum()\n",
    "massa_linhas = pd.DataFrame(data=massa_linhas)\n",
    "massa_linhas = massa_linhas.T\n",
    "massa_linhas.columns = ['Massas'] #nome da coluna\n",
    "massa_linhas.index = ['Acoes','CDB','Poupanca'] #nomes das linhas\n",
    "massa_linhas #massas das linhas"
   ]
  },
  {
   "cell_type": "code",
   "execution_count": null,
   "id": "10df41c3",
   "metadata": {
    "lines_to_next_cell": 2
   },
   "outputs": [],
   "source": [
    "# Decomposição inercial para as dimensões:\n",
    "# Cálculo da inércia principal total (a partir do qui-quadrado)\n",
    "tabela_array = np.array(tabela_contingencia)\n",
    "n = tabela_array.sum()\n",
    "inercia_total = chi2/n\n",
    "inercia_total"
   ]
  },
  {
   "cell_type": "code",
   "execution_count": null,
   "id": "8ffb8bd6",
   "metadata": {
    "lines_to_next_cell": 2
   },
   "outputs": [],
   "source": [
    "# Definição da matriz A\n",
    "# Os valores das células da matriz A são iguais aos das respectivas células da\n",
    "#matriz de resíduos padronizados (qui2$residuals) divididos pela raiz quadrada\n",
    "#do tamanho da amostra (n)\n",
    "matrizA = tabela.resid_pearson/np.sqrt(n)\n",
    "matrizA"
   ]
  },
  {
   "cell_type": "code",
   "execution_count": null,
   "id": "c770bd3e",
   "metadata": {
    "lines_to_next_cell": 2
   },
   "outputs": [],
   "source": [
    "# Definição da matriz W\n",
    "matrizW = np.matmul(matrizA.T, matrizA)\n",
    "matrizW"
   ]
  },
  {
   "cell_type": "code",
   "execution_count": null,
   "id": "69cc6be4",
   "metadata": {
    "lines_to_next_cell": 2
   },
   "outputs": [],
   "source": [
    "# Definição da quantidade de dimensões\n",
    "qtde_dimensoes = min(len(matrizW) - 1, len(matrizW[0]) - 1)\n",
    "qtde_dimensoes"
   ]
  },
  {
   "cell_type": "code",
   "execution_count": null,
   "id": "c92b3bac",
   "metadata": {
    "lines_to_next_cell": 2
   },
   "outputs": [],
   "source": [
    "# Definição dos valores singulares e autovetores (função 'svd' do pacote\n",
    "#'scipy.linalg')\n",
    "autovetor_u, valores_singulares, autovetor_v = svd(matrizA)"
   ]
  },
  {
   "cell_type": "code",
   "execution_count": null,
   "id": "05888d98",
   "metadata": {
    "lines_to_next_cell": 2
   },
   "outputs": [],
   "source": [
    "# Valores singulares de cada dimensão\n",
    "valores_singulares = valores_singulares[0:qtde_dimensoes]\n",
    "valores_singulares"
   ]
  },
  {
   "cell_type": "code",
   "execution_count": null,
   "id": "85c20e6b",
   "metadata": {
    "lines_to_next_cell": 2
   },
   "outputs": [],
   "source": [
    "# Autovalores (eigenvalues) de cada dimensão\n",
    "eigenvalues = (valores_singulares)**2\n",
    "eigenvalues"
   ]
  },
  {
   "cell_type": "code",
   "execution_count": null,
   "id": "2628488b",
   "metadata": {
    "lines_to_next_cell": 2
   },
   "outputs": [],
   "source": [
    "# Autovetores v das dimensões\n",
    "autovetor_v.T[:,0:2]"
   ]
  },
  {
   "cell_type": "code",
   "execution_count": null,
   "id": "e72e2ae5",
   "metadata": {
    "lines_to_next_cell": 2
   },
   "outputs": [],
   "source": [
    "# Autovetores u das dimensões\n",
    "autovetor_u[:,0:2]"
   ]
  },
  {
   "cell_type": "code",
   "execution_count": null,
   "id": "ac22a56c",
   "metadata": {
    "lines_to_next_cell": 2
   },
   "outputs": [],
   "source": [
    "# Conforme discutido ao longo do capítulo, sabemos que:\n",
    "# Os objetos 'autovetor_v' e 'autovetor_u' correspondem aos eigenvectors;\n",
    "# Os valores contidos no objeto 'valores_singulares' elevados ao quadrado\n",
    "#correspondem aos autovalores (eigenvalues) de cada dimensão, cuja soma\n",
    "#corresponde ao valor presente no objeto 'inercia_total';\n",
    "# Conforme realizamos algebricamente ao longo do capítulo, utilizaremos os\n",
    "#valores presentes nesses objetos para o cálculo das coordenadas de cada\n",
    "#categoria das variáveis qualitativas 'perfil' e 'aplicacao'."
   ]
  },
  {
   "cell_type": "code",
   "execution_count": null,
   "id": "551cd93b",
   "metadata": {
    "lines_to_next_cell": 2
   },
   "outputs": [],
   "source": [
    "# Cálculo da variância explicada em cada dimensão\n",
    "variancia_explicada = eigenvalues / inercia_total\n",
    "variancia_explicada"
   ]
  },
  {
   "cell_type": "code",
   "execution_count": null,
   "id": "131bdc0a",
   "metadata": {
    "lines_to_next_cell": 2
   },
   "outputs": [],
   "source": [
    "# Visualização de tabela com dimensões, valores singulares, eigenvalues,\n",
    "#valores de qui-quadrado por dimensão, percentual da inércia principal total e\n",
    "#percentual da inércia principal total acumulada\n",
    "tabela_dim = np.array([valores_singulares,\n",
    "                       eigenvalues,\n",
    "                       eigenvalues*n,\n",
    "                       variancia_explicada*100,\n",
    "                       variancia_explicada.cumsum()*100])\n",
    "tabela_dim = pd.DataFrame(data=tabela_dim)\n",
    "tabela_dim = tabela_dim.T #transposição da matriz\n",
    "tabela_dim.columns = ['Valor Singular', #nomes das colunas\n",
    "                        'Eigenvalues',\n",
    "                        'Qui²',\n",
    "                        'Percentual da Inércia Principal Total',\n",
    "                        'Percentual da Inércia Principal Total Acumulada']\n",
    "tabela_dim.index = [f\"Dimensão {i+1}\" for i, #nomes das linhas\n",
    "                    v in enumerate(tabela_dim.index)]\n",
    "tabela_dim #tabela gerada"
   ]
  },
  {
   "cell_type": "code",
   "execution_count": null,
   "id": "198fdc7c",
   "metadata": {
    "lines_to_next_cell": 2
   },
   "outputs": [],
   "source": [
    "################################################################################\n",
    "#      CÁLCULO DAS COORDENADAS DAS CATEGORIAS DAS VARIÁVEIS QUALITATIVAS       #\n",
    "#                    PARA A CONSTRUÇÃO DO MAPA PERCEPTUAL                      #\n",
    "################################################################################"
   ]
  },
  {
   "cell_type": "code",
   "execution_count": null,
   "id": "efb0b1b2",
   "metadata": {
    "lines_to_next_cell": 2
   },
   "outputs": [],
   "source": [
    "# Variável em linha na tabela de contingência ('perfil'):\n",
    "# Coordenadas das abcissas\n",
    "coord_abcissas_perfil = np.sqrt(valores_singulares[0]) * (massa_colunas)**(-0.5) * autovetor_u[:,0:1]\n",
    "coord_abcissas_perfil.columns = ['']\n",
    "coord_abcissas_perfil"
   ]
  },
  {
   "cell_type": "code",
   "execution_count": null,
   "id": "5bd9db78",
   "metadata": {
    "lines_to_next_cell": 2
   },
   "outputs": [],
   "source": [
    "# Coordenadas das ordenadas\n",
    "coord_ordenadas_perfil = np.sqrt(valores_singulares[1]) * (massa_colunas)**(-0.5) * autovetor_u[:,1:2]\n",
    "coord_ordenadas_perfil.columns = ['']\n",
    "coord_ordenadas_perfil"
   ]
  },
  {
   "cell_type": "code",
   "execution_count": null,
   "id": "57d8b58f",
   "metadata": {
    "lines_to_next_cell": 2
   },
   "outputs": [],
   "source": [
    "# Variável em coluna na tabela de contingência ('aplicacao'):\n",
    "# Coordenadas das abcissas\n",
    "coord_abcissas_aplicacao = np.sqrt(valores_singulares[0]) * (massa_linhas)**(-0.5) * autovetor_v[0:1,:].T\n",
    "coord_abcissas_aplicacao.columns = ['']\n",
    "coord_abcissas_aplicacao"
   ]
  },
  {
   "cell_type": "code",
   "execution_count": null,
   "id": "fd1025ba",
   "metadata": {
    "lines_to_next_cell": 2
   },
   "outputs": [],
   "source": [
    "# Coordenadas das ordenadas\n",
    "coord_ordenadas_aplicacao = np.sqrt(valores_singulares[1]) * (massa_linhas)**(-0.5) * autovetor_v[1:2,:].T\n",
    "coord_ordenadas_aplicacao.columns = ['']\n",
    "coord_ordenadas_aplicacao"
   ]
  },
  {
   "cell_type": "code",
   "execution_count": null,
   "id": "752196b6",
   "metadata": {
    "lines_to_next_cell": 2
   },
   "outputs": [],
   "source": [
    "################################################################################\n",
    "#                   CONSTRUÇÃO DO MAPA PERCEPTUAL DA ANACOR                    #\n",
    "################################################################################"
   ]
  },
  {
   "cell_type": "code",
   "execution_count": null,
   "id": "70888600",
   "metadata": {
    "lines_to_next_cell": 2
   },
   "outputs": [],
   "source": [
    "# Criação de um dataframe com as abcissas e ordenadas de cada categoria\n",
    "#das variáveis qualitativas consideradas na análise\n",
    "\n",
    "# Dataframe com coordenadas das abcissas\n",
    "tabela_coord_abcissas = pd.concat([coord_abcissas_perfil,\n",
    "                                   coord_abcissas_aplicacao])\n",
    "tabela_coord_abcissas.columns = ['Abcissas']\n",
    "tabela_coord_abcissas"
   ]
  },
  {
   "cell_type": "code",
   "execution_count": null,
   "id": "8d87bc18",
   "metadata": {
    "lines_to_next_cell": 2
   },
   "outputs": [],
   "source": [
    "# Dataframe com coordenadas das ordenadas\n",
    "tabela_coord_ordenadas = pd.concat([coord_ordenadas_perfil,\n",
    "                                   coord_ordenadas_aplicacao])\n",
    "tabela_coord_ordenadas.columns = ['Ordenadas']\n",
    "tabela_coord_ordenadas"
   ]
  },
  {
   "cell_type": "code",
   "execution_count": null,
   "id": "4ffc88ba",
   "metadata": {
    "lines_to_next_cell": 2
   },
   "outputs": [],
   "source": [
    "# Dataframe com coordenadas conjuntas das abcissas e ordenadas\n",
    "tabela_coord = pd.concat([tabela_coord_abcissas, tabela_coord_ordenadas],\n",
    "                        axis=1)\n",
    "tabela_coord"
   ]
  },
  {
   "cell_type": "code",
   "execution_count": null,
   "id": "2ba5594f",
   "metadata": {
    "lines_to_next_cell": 2
   },
   "outputs": [],
   "source": [
    "# Inserção no dataframe 'tabela_coord' de uma variável (oriunda de uma lista\n",
    "#gerada no algoritmo a seguir) que indica a variável qualitativa original\n",
    "#a que pertence determinada categoria\n",
    "lista=[]\n",
    "for i in tabela_coord.index:\n",
    "    for item in df_perfil.columns:\n",
    "        if i in df_perfil[item].unique():\n",
    "            print(item, i)\n",
    "            lista.append(item)\n",
    "\n",
    "tabela_coord['variável'] = lista\n",
    "tabela_coord #dataframe com coordenadas das abcissas e ordenadas, e variável\n",
    "#a que pertencem as categorias"
   ]
  },
  {
   "cell_type": "code",
   "execution_count": null,
   "id": "5a89443d",
   "metadata": {
    "lines_to_next_cell": 2
   },
   "outputs": [],
   "source": [
    "# Inserção, no dataframe 'tabela_coord', de um index referente às categorias\n",
    "#das variáveis qualitativas originais para a elaboração do mapa perceptual\n",
    "tabela_coord_chart = tabela_coord.reset_index()\n",
    "tabela_coord_chart"
   ]
  },
  {
   "cell_type": "code",
   "execution_count": null,
   "id": "2ce97bb1",
   "metadata": {
    "lines_to_next_cell": 2
   },
   "outputs": [],
   "source": [
    "# Construção do mapa perceptual propriamente dito\n",
    "plt.figure(figsize=(12,8))\n",
    "ax = sns.scatterplot(data = tabela_coord_chart,\n",
    "                     x = 'Abcissas',\n",
    "                     y = 'Ordenadas',\n",
    "                     hue = 'variável',\n",
    "                     s = 200,\n",
    "                     style = 'variável')\n",
    "\n",
    "def label_point(x, y, val, ax):\n",
    "    a = pd.concat({'x': x, 'y': y, 'val': val}, axis=1)\n",
    "    for i, point in a.iterrows():\n",
    "        ax.text(point['x'] + 0.05, point['y'], point['val'], fontsize = 14)\n",
    "\n",
    "label_point(x = tabela_coord_chart['Abcissas'],\n",
    "            y = tabela_coord_chart['Ordenadas'],\n",
    "            val = tabela_coord_chart['index'],\n",
    "            ax = plt.gca())\n",
    "\n",
    "plt.axhline(y=0, color='black', ls='--')\n",
    "plt.axvline(x=0, color='black', ls='--')\n",
    "plt.ylim([-1.5,1.5])\n",
    "plt.xlim([-1.5,1.5])\n",
    "plt.title('Mapa perceptual para perfil do investidor e tipo de aplicação financeira', fontsize=16)\n",
    "plt.xlabel(f\"Dimensão 1: {round(variancia_explicada[0]*100,2)}%\", fontsize=16)\n",
    "plt.ylabel(f\"Dimensão 2: {round(variancia_explicada[1]*100,2)}%\", fontsize=16)\n",
    "ax.legend(fontsize=16)\n",
    "plt.show()"
   ]
  },
  {
   "cell_type": "code",
   "execution_count": null,
   "id": "351402ac",
   "metadata": {
    "lines_to_next_cell": 2
   },
   "outputs": [],
   "source": [
    "# O que foi feito até o presente momento poderia ser obtido por meio do\n",
    "#seguinte código (função 'CA' do pacote 'prince' versão 0.7.1)\n",
    "anacor = prince.CA()\n",
    "anacor = anacor.fit(tabela_contingencia)\n",
    "anacor"
   ]
  },
  {
   "cell_type": "code",
   "execution_count": null,
   "id": "fb4f9fb8",
   "metadata": {
    "lines_to_next_cell": 2
   },
   "outputs": [],
   "source": [
    "# Massas das colunas (column profiles)\n",
    "anacor.row_masses_ #sim, é isso mesmo ('row_masses')!"
   ]
  },
  {
   "cell_type": "code",
   "execution_count": null,
   "id": "14aa2d16",
   "metadata": {
    "lines_to_next_cell": 2
   },
   "outputs": [],
   "source": [
    "# Massas das linhas (row profiles)\n",
    "anacor.col_masses_ #sim, é isso mesmo ('col_masses')!"
   ]
  },
  {
   "cell_type": "code",
   "execution_count": null,
   "id": "48c611a9",
   "metadata": {
    "lines_to_next_cell": 2
   },
   "outputs": [],
   "source": [
    "# Inércia principal total\n",
    "anacor.total_inertia_"
   ]
  },
  {
   "cell_type": "code",
   "execution_count": null,
   "id": "f1a6f947",
   "metadata": {
    "lines_to_next_cell": 2
   },
   "outputs": [],
   "source": [
    "# Quantidade de dimensões\n",
    "anacor.n_components"
   ]
  },
  {
   "cell_type": "code",
   "execution_count": null,
   "id": "154fa737",
   "metadata": {
    "lines_to_next_cell": 2
   },
   "outputs": [],
   "source": [
    "# Autovalores (eigenvalues) de cada dimensão\n",
    "anacor.eigenvalues_"
   ]
  },
  {
   "cell_type": "code",
   "execution_count": null,
   "id": "8dc5bef4",
   "metadata": {},
   "outputs": [],
   "source": [
    "# Variância explicada em cada dimensão\n",
    "anacor.explained_inertia_"
   ]
  },
  {
   "cell_type": "code",
   "execution_count": null,
   "id": "447a90b0",
   "metadata": {
    "lines_to_next_cell": 2
   },
   "outputs": [],
   "source": [
    "# Coordenadas das abcissas e ordenadas das categorias da variável 'perfil'\n",
    "anacor.row_coordinates(tabela_contingencia)"
   ]
  },
  {
   "cell_type": "code",
   "execution_count": null,
   "id": "c0b4ac56",
   "metadata": {
    "lines_to_next_cell": 2
   },
   "outputs": [],
   "source": [
    "# Coordenadas das abcissas e ordenadas das categorias da variável 'aplicacao'\n",
    "anacor.column_coordinates(tabela_contingencia)"
   ]
  },
  {
   "cell_type": "code",
   "execution_count": null,
   "id": "fb069739",
   "metadata": {
    "lines_to_next_cell": 2
   },
   "outputs": [],
   "source": [
    "# Um pesquisador mais curioso irá notar que as coordenadas obtidas aqui por\n",
    "#meio da função 'ca' do pacote 'prince' são proporcionais àquelas obtidas\n",
    "#anteriormente de maneira algébrica. Portanto, não alteram em nada o padrão\n",
    "#e o comportamento das categorias no mapa perceptual gerado a partir do\n",
    "#código a seguir em relação àquele construído anteriormente pelo pacote\n",
    "#'seaborn'."
   ]
  },
  {
   "cell_type": "code",
   "execution_count": null,
   "id": "c3b0ba27",
   "metadata": {},
   "outputs": [],
   "source": [
    "# Mapa perceptual\n",
    "anacor.plot_coordinates(tabela_contingencia)"
   ]
  },
  {
   "cell_type": "code",
   "execution_count": null,
   "id": "2469194c",
   "metadata": {},
   "outputs": [],
   "source": [
    "# Mapa perceptual mais bem elaborado\n",
    "anacor.plot_coordinates(X=tabela_contingencia,\n",
    "                        ax=None,\n",
    "                        figsize=(12,8),\n",
    "                        x_component=0,\n",
    "                        y_component=1,\n",
    "                        show_row_labels=True,\n",
    "                        show_col_labels=True)"
   ]
  },
  {
   "cell_type": "code",
   "execution_count": null,
   "id": "912a0533",
   "metadata": {
    "lines_to_next_cell": 2
   },
   "outputs": [],
   "source": [
    "# Mapa perceptual interativo\n",
    "\n",
    "pio.renderers.default='browser'\n",
    "\n",
    "chart_df = pd.DataFrame({'obs_x':anacor.row_coordinates(tabela_contingencia)[0].values,\n",
    "                         'obs_y': anacor.row_coordinates(tabela_contingencia)[1].values})\n",
    "\n",
    "fig = go.Figure(data=go.Scatter(x=chart_df['obs_x'],\n",
    "                                y=chart_df['obs_y'],\n",
    "                                name=tabela_contingencia.index.name,\n",
    "                                textposition=\"top center\",\n",
    "                                text=tabela_contingencia.index,\n",
    "                                mode=\"markers+text\",))\n",
    "\n",
    "fig.add_trace(go.Scatter(\n",
    "    x=anacor.column_coordinates(tabela_contingencia)[0].values,\n",
    "    mode=\"markers+text\",\n",
    "    name=tabela_contingencia.columns.name,\n",
    "    textposition=\"top center\",\n",
    "    y=anacor.column_coordinates(tabela_contingencia)[1].values,\n",
    "    text=anacor.column_coordinates(tabela_contingencia).index\n",
    "))\n",
    "\n",
    "fig.update_layout(\n",
    "    autosize=False,\n",
    "    width=800,\n",
    "    height=800,\n",
    "    title_text='Coordenadas principais'\n",
    "\n",
    ")\n",
    "\n",
    "fig.show()"
   ]
  },
  {
   "cell_type": "code",
   "execution_count": null,
   "id": "bf65a2a3",
   "metadata": {
    "lines_to_next_cell": 2
   },
   "outputs": [],
   "source": [
    "##############################################################################\n",
    "#                    ANÁLISE DE CORRESPONDÊNCIA MÚLTIPLA                     #\n",
    "# DESCRIÇÃO E EXPLORAÇÃO DO DATASET 'perfil_investidor_aplicacao_estadocivil'#\n",
    "##############################################################################"
   ]
  },
  {
   "cell_type": "code",
   "execution_count": null,
   "id": "80e8f073",
   "metadata": {
    "lines_to_next_cell": 2
   },
   "outputs": [],
   "source": [
    "# Carregamento da base de dados 'perfil_investidor_aplicacao_estadocivil'\n",
    "df_perfil_acm = pd.read_csv('perfil_investidor_aplicacao_estadocivil.csv',\n",
    "                            delimiter=',')\n",
    "\n",
    "# Visualização da base de dados 'perfil_investidor_aplicacao_estadocivil'\n",
    "df_perfil_acm"
   ]
  },
  {
   "cell_type": "code",
   "execution_count": null,
   "id": "2ad826e9",
   "metadata": {
    "lines_to_next_cell": 2
   },
   "outputs": [],
   "source": [
    "# Características das variáveis do dataset\n",
    "df_perfil_acm.info()"
   ]
  },
  {
   "cell_type": "code",
   "execution_count": null,
   "id": "4e6a4b21",
   "metadata": {
    "lines_to_next_cell": 2
   },
   "outputs": [],
   "source": [
    "# Tabelas de frequência das variáveis qualitativas 'perfil', 'aplicacao' e\n",
    "#'estado_civil'\n",
    "df_perfil_acm['perfil'].value_counts()\n",
    "df_perfil_acm['aplicacao'].value_counts()\n",
    "df_perfil_acm['estado_civil'].value_counts()"
   ]
  },
  {
   "cell_type": "code",
   "execution_count": null,
   "id": "def62809",
   "metadata": {
    "lines_to_next_cell": 2,
    "title": "Criação de um dataframe 'df' que contém apenas as variáveis categóricas"
   },
   "outputs": [],
   "source": [
    "#'perfil', 'aplicacao' e 'estado_civil'\n",
    "df = df_perfil_acm.drop(columns=['estudante'])\n",
    "df"
   ]
  },
  {
   "cell_type": "code",
   "execution_count": null,
   "id": "7ba6cd51",
   "metadata": {
    "lines_to_next_cell": 2
   },
   "outputs": [],
   "source": [
    "# Tabelas de contingência com frequências absolutas observadas e esperadas,\n",
    "#bem como os testes qui-quadrado\n",
    "# Algoritmo para geração destas tabelas de contingência para os pares de\n",
    "#variáveis categóricas presentes no dataframe 'df'\n",
    "\n",
    "from itertools import combinations\n",
    "\n",
    "for item in list(combinations(df.columns, 2)):\n",
    "    print(item, \"\\n\")\n",
    "    tabela = pd.crosstab(df[item[0]], df[item[1]])\n",
    "    \n",
    "    print(tabela, \"\\n\")\n",
    "    \n",
    "    chi2, pvalor, gl, freq_esp = chi2_contingency(tabela)\n",
    "\n",
    "    print(f\"estatística qui²: {chi2}\") # estatística qui²\n",
    "    print(f\"p-valor da estatística: {pvalor}\") # p-valor da estatística\n",
    "    print(f\"graus de liberdade: {gl} \\n\") # graus de liberdade"
   ]
  },
  {
   "cell_type": "code",
   "execution_count": null,
   "id": "4395936b",
   "metadata": {
    "lines_to_next_cell": 2
   },
   "outputs": [],
   "source": [
    "# Identificação das variáveis e de suas categorias únicas no dataframe 'df'\n",
    "\n",
    "for col in df:\n",
    "    print(col, df[col].unique())"
   ]
  },
  {
   "cell_type": "code",
   "execution_count": null,
   "id": "58255e66",
   "metadata": {
    "lines_to_next_cell": 2
   },
   "outputs": [],
   "source": [
    "# Ajustando as variáveis para type = 'category' no dataframe 'df'\n",
    "df = df.astype('category')\n",
    "df.info()"
   ]
  },
  {
   "cell_type": "code",
   "execution_count": null,
   "id": "616a77ad",
   "metadata": {
    "lines_to_next_cell": 2
   },
   "outputs": [],
   "source": [
    "# Indicação das variáveis consideradas na MCA\n",
    "mca_cols = df.select_dtypes(['category']).columns\n",
    "mca_cols.tolist() #variáveis consideradas na MCA"
   ]
  },
  {
   "cell_type": "code",
   "execution_count": null,
   "id": "dffbd08e",
   "metadata": {
    "lines_to_next_cell": 2
   },
   "outputs": [],
   "source": [
    "# Elaboração da MCA propriamente dita (função 'MCA' do pacote 'prince')\n",
    "mca = prince.MCA()\n",
    "mca = mca.fit(df[mca_cols])"
   ]
  },
  {
   "cell_type": "code",
   "execution_count": null,
   "id": "0f6639f9",
   "metadata": {},
   "outputs": [],
   "source": [
    "# Coordenadas das categorias das variáveis e das observações\n",
    "\n",
    "# Coordenadas das abcissas e ordenadas das categorias das variáveis\n",
    "mca.column_coordinates(df[mca_cols])"
   ]
  },
  {
   "cell_type": "code",
   "execution_count": null,
   "id": "a9b49bb8",
   "metadata": {},
   "outputs": [],
   "source": [
    "# Coordenadas das abcissas e ordenadas das observações (estudantes)\n",
    "mca.row_coordinates(df[mca_cols])"
   ]
  },
  {
   "cell_type": "code",
   "execution_count": null,
   "id": "103ba9a3",
   "metadata": {},
   "outputs": [],
   "source": [
    "##############################################################################\n",
    "#                    CONSTRUÇÃO DO MAPA PERCEPTUAL DA ACM                    #\n",
    "##############################################################################"
   ]
  },
  {
   "cell_type": "code",
   "execution_count": null,
   "id": "de6b174f",
   "metadata": {
    "lines_to_next_cell": 2
   },
   "outputs": [],
   "source": [
    "# Mapa perceptual apenas com coordenadas das abcissas e ordenadas das\n",
    "#categorias das variáveis\n",
    "mca.plot_coordinates(X=df[mca_cols],\n",
    "                     figsize=(10,8),\n",
    "                     show_row_points = False,\n",
    "                     show_column_points = True,\n",
    "                     show_row_labels=False,\n",
    "                     show_column_labels = True,\n",
    "                     column_points_size = 100)"
   ]
  },
  {
   "cell_type": "code",
   "execution_count": null,
   "id": "57515b3f",
   "metadata": {
    "lines_to_next_cell": 2
   },
   "outputs": [],
   "source": [
    "# Mapa perceptual com coordenadas das abcissas e ordenadas das categorias das\n",
    "#variáveis e das observações (estudantes)\n",
    "mca.plot_coordinates(X=df[mca_cols],\n",
    "                     figsize=(10,8),\n",
    "                     show_row_points = True,\n",
    "                     show_column_points = True,\n",
    "                     show_row_labels=False,\n",
    "                     show_column_labels = True,\n",
    "                     column_points_size = 100)"
   ]
  },
  {
   "cell_type": "code",
   "execution_count": null,
   "id": "cd3733f1",
   "metadata": {
    "lines_to_next_cell": 2
   },
   "outputs": [],
   "source": [
    "# Mapa perceptual com coordenadas das abcissas e ordenadas das categorias das\n",
    "#variáveis e das observações (estudantes) com identificação\n",
    "df_mca_cols = df[mca_cols]\n",
    "df_mca_cols.index = df_perfil_acm['estudante']\n",
    "mca.plot_coordinates(X=df_mca_cols,\n",
    "                     figsize=(10,8),\n",
    "                     show_row_points = True,\n",
    "                     show_column_points = True,\n",
    "                     show_row_labels=True,\n",
    "                     show_column_labels = True,\n",
    "                     column_points_size = 100)"
   ]
  },
  {
   "cell_type": "code",
   "execution_count": null,
   "id": "6b444b70",
   "metadata": {},
   "outputs": [],
   "source": [
    "##############################################################################\n",
    "#                      MATRIZ BINÁRIA E MATRIZ DE BURT                       #\n",
    "##############################################################################"
   ]
  },
  {
   "cell_type": "code",
   "execution_count": null,
   "id": "5ae13147",
   "metadata": {
    "lines_to_next_cell": 2
   },
   "outputs": [],
   "source": [
    "# Matriz binária\n",
    "df = df_perfil_acm.drop(columns=['estudante'])\n",
    "df\n",
    "matriz_binaria = (pd.get_dummies(df)*(-1)) + 1\n",
    "matriz_binaria"
   ]
  },
  {
   "cell_type": "code",
   "execution_count": null,
   "id": "0939943b",
   "metadata": {},
   "outputs": [],
   "source": [
    "# Matriz de Burt\n",
    "matriz_burt = np.matmul(matriz_binaria.T, matriz_binaria)\n",
    "matriz_burt"
   ]
  }
 ],
 "metadata": {
  "jupytext": {
   "cell_metadata_filter": "title,-all",
   "main_language": "python",
   "notebook_metadata_filter": "-all"
  },
  "kernelspec": {
   "display_name": "Python 3 (ipykernel)",
   "language": "python",
   "name": "python3"
  },
  "language_info": {
   "codemirror_mode": {
    "name": "ipython",
    "version": 3
   },
   "file_extension": ".py",
   "mimetype": "text/x-python",
   "name": "python",
   "nbconvert_exporter": "python",
   "pygments_lexer": "ipython3",
   "version": "3.9.13"
  }
 },
 "nbformat": 4,
 "nbformat_minor": 5
}
